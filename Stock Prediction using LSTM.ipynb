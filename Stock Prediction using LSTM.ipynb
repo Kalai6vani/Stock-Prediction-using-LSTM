{
 "cells": [
  {
   "cell_type": "code",
   "execution_count": 1,
   "id": "aea0330a",
   "metadata": {},
   "outputs": [],
   "source": [
    "import pandas as pd\n",
    "#import the dataset\n",
    "df=pd.read_csv('D:\\MSFT.csv')"
   ]
  },
  {
   "cell_type": "code",
   "execution_count": 2,
   "id": "07a365c3",
   "metadata": {},
   "outputs": [
    {
     "data": {
      "text/html": [
       "<div>\n",
       "<style scoped>\n",
       "    .dataframe tbody tr th:only-of-type {\n",
       "        vertical-align: middle;\n",
       "    }\n",
       "\n",
       "    .dataframe tbody tr th {\n",
       "        vertical-align: top;\n",
       "    }\n",
       "\n",
       "    .dataframe thead th {\n",
       "        text-align: right;\n",
       "    }\n",
       "</style>\n",
       "<table border=\"1\" class=\"dataframe\">\n",
       "  <thead>\n",
       "    <tr style=\"text-align: right;\">\n",
       "      <th></th>\n",
       "      <th>Date</th>\n",
       "      <th>Open</th>\n",
       "      <th>High</th>\n",
       "      <th>Low</th>\n",
       "      <th>Close</th>\n",
       "      <th>Adj Close</th>\n",
       "      <th>Volume</th>\n",
       "    </tr>\n",
       "  </thead>\n",
       "  <tbody>\n",
       "    <tr>\n",
       "      <th>0</th>\n",
       "      <td>1986-03-13</td>\n",
       "      <td>0.088542</td>\n",
       "      <td>0.101563</td>\n",
       "      <td>0.088542</td>\n",
       "      <td>0.097222</td>\n",
       "      <td>0.060524</td>\n",
       "      <td>1031788800</td>\n",
       "    </tr>\n",
       "    <tr>\n",
       "      <th>1</th>\n",
       "      <td>1986-03-14</td>\n",
       "      <td>0.097222</td>\n",
       "      <td>0.102431</td>\n",
       "      <td>0.097222</td>\n",
       "      <td>0.100694</td>\n",
       "      <td>0.062686</td>\n",
       "      <td>308160000</td>\n",
       "    </tr>\n",
       "    <tr>\n",
       "      <th>2</th>\n",
       "      <td>1986-03-17</td>\n",
       "      <td>0.100694</td>\n",
       "      <td>0.103299</td>\n",
       "      <td>0.100694</td>\n",
       "      <td>0.102431</td>\n",
       "      <td>0.063767</td>\n",
       "      <td>133171200</td>\n",
       "    </tr>\n",
       "    <tr>\n",
       "      <th>3</th>\n",
       "      <td>1986-03-18</td>\n",
       "      <td>0.102431</td>\n",
       "      <td>0.103299</td>\n",
       "      <td>0.098958</td>\n",
       "      <td>0.099826</td>\n",
       "      <td>0.062145</td>\n",
       "      <td>67766400</td>\n",
       "    </tr>\n",
       "    <tr>\n",
       "      <th>4</th>\n",
       "      <td>1986-03-19</td>\n",
       "      <td>0.099826</td>\n",
       "      <td>0.100694</td>\n",
       "      <td>0.097222</td>\n",
       "      <td>0.098090</td>\n",
       "      <td>0.061065</td>\n",
       "      <td>47894400</td>\n",
       "    </tr>\n",
       "    <tr>\n",
       "      <th>...</th>\n",
       "      <td>...</td>\n",
       "      <td>...</td>\n",
       "      <td>...</td>\n",
       "      <td>...</td>\n",
       "      <td>...</td>\n",
       "      <td>...</td>\n",
       "      <td>...</td>\n",
       "    </tr>\n",
       "    <tr>\n",
       "      <th>9405</th>\n",
       "      <td>2023-07-10</td>\n",
       "      <td>334.600006</td>\n",
       "      <td>335.230011</td>\n",
       "      <td>327.589996</td>\n",
       "      <td>331.829987</td>\n",
       "      <td>331.829987</td>\n",
       "      <td>32791400</td>\n",
       "    </tr>\n",
       "    <tr>\n",
       "      <th>9406</th>\n",
       "      <td>2023-07-11</td>\n",
       "      <td>331.059998</td>\n",
       "      <td>332.859985</td>\n",
       "      <td>327.000000</td>\n",
       "      <td>332.470001</td>\n",
       "      <td>332.470001</td>\n",
       "      <td>26698200</td>\n",
       "    </tr>\n",
       "    <tr>\n",
       "      <th>9407</th>\n",
       "      <td>2023-07-12</td>\n",
       "      <td>336.600006</td>\n",
       "      <td>341.649994</td>\n",
       "      <td>335.670013</td>\n",
       "      <td>337.200012</td>\n",
       "      <td>337.200012</td>\n",
       "      <td>29995300</td>\n",
       "    </tr>\n",
       "    <tr>\n",
       "      <th>9408</th>\n",
       "      <td>2023-07-13</td>\n",
       "      <td>339.559998</td>\n",
       "      <td>343.739990</td>\n",
       "      <td>339.019989</td>\n",
       "      <td>342.660004</td>\n",
       "      <td>342.660004</td>\n",
       "      <td>20567200</td>\n",
       "    </tr>\n",
       "    <tr>\n",
       "      <th>9409</th>\n",
       "      <td>2023-07-14</td>\n",
       "      <td>347.589996</td>\n",
       "      <td>351.429993</td>\n",
       "      <td>344.309998</td>\n",
       "      <td>345.239990</td>\n",
       "      <td>345.239990</td>\n",
       "      <td>28302200</td>\n",
       "    </tr>\n",
       "  </tbody>\n",
       "</table>\n",
       "<p>9410 rows × 7 columns</p>\n",
       "</div>"
      ],
      "text/plain": [
       "            Date        Open        High         Low       Close   Adj Close  \\\n",
       "0     1986-03-13    0.088542    0.101563    0.088542    0.097222    0.060524   \n",
       "1     1986-03-14    0.097222    0.102431    0.097222    0.100694    0.062686   \n",
       "2     1986-03-17    0.100694    0.103299    0.100694    0.102431    0.063767   \n",
       "3     1986-03-18    0.102431    0.103299    0.098958    0.099826    0.062145   \n",
       "4     1986-03-19    0.099826    0.100694    0.097222    0.098090    0.061065   \n",
       "...          ...         ...         ...         ...         ...         ...   \n",
       "9405  2023-07-10  334.600006  335.230011  327.589996  331.829987  331.829987   \n",
       "9406  2023-07-11  331.059998  332.859985  327.000000  332.470001  332.470001   \n",
       "9407  2023-07-12  336.600006  341.649994  335.670013  337.200012  337.200012   \n",
       "9408  2023-07-13  339.559998  343.739990  339.019989  342.660004  342.660004   \n",
       "9409  2023-07-14  347.589996  351.429993  344.309998  345.239990  345.239990   \n",
       "\n",
       "          Volume  \n",
       "0     1031788800  \n",
       "1      308160000  \n",
       "2      133171200  \n",
       "3       67766400  \n",
       "4       47894400  \n",
       "...          ...  \n",
       "9405    32791400  \n",
       "9406    26698200  \n",
       "9407    29995300  \n",
       "9408    20567200  \n",
       "9409    28302200  \n",
       "\n",
       "[9410 rows x 7 columns]"
      ]
     },
     "execution_count": 2,
     "metadata": {},
     "output_type": "execute_result"
    }
   ],
   "source": [
    "#read the dataset\n",
    "df"
   ]
  },
  {
   "cell_type": "code",
   "execution_count": 3,
   "id": "dad105c4",
   "metadata": {},
   "outputs": [
    {
     "data": {
      "text/html": [
       "<div>\n",
       "<style scoped>\n",
       "    .dataframe tbody tr th:only-of-type {\n",
       "        vertical-align: middle;\n",
       "    }\n",
       "\n",
       "    .dataframe tbody tr th {\n",
       "        vertical-align: top;\n",
       "    }\n",
       "\n",
       "    .dataframe thead th {\n",
       "        text-align: right;\n",
       "    }\n",
       "</style>\n",
       "<table border=\"1\" class=\"dataframe\">\n",
       "  <thead>\n",
       "    <tr style=\"text-align: right;\">\n",
       "      <th></th>\n",
       "      <th>Date</th>\n",
       "      <th>Close</th>\n",
       "    </tr>\n",
       "  </thead>\n",
       "  <tbody>\n",
       "    <tr>\n",
       "      <th>0</th>\n",
       "      <td>1986-03-13</td>\n",
       "      <td>0.097222</td>\n",
       "    </tr>\n",
       "    <tr>\n",
       "      <th>1</th>\n",
       "      <td>1986-03-14</td>\n",
       "      <td>0.100694</td>\n",
       "    </tr>\n",
       "    <tr>\n",
       "      <th>2</th>\n",
       "      <td>1986-03-17</td>\n",
       "      <td>0.102431</td>\n",
       "    </tr>\n",
       "    <tr>\n",
       "      <th>3</th>\n",
       "      <td>1986-03-18</td>\n",
       "      <td>0.099826</td>\n",
       "    </tr>\n",
       "    <tr>\n",
       "      <th>4</th>\n",
       "      <td>1986-03-19</td>\n",
       "      <td>0.098090</td>\n",
       "    </tr>\n",
       "    <tr>\n",
       "      <th>...</th>\n",
       "      <td>...</td>\n",
       "      <td>...</td>\n",
       "    </tr>\n",
       "    <tr>\n",
       "      <th>9405</th>\n",
       "      <td>2023-07-10</td>\n",
       "      <td>331.829987</td>\n",
       "    </tr>\n",
       "    <tr>\n",
       "      <th>9406</th>\n",
       "      <td>2023-07-11</td>\n",
       "      <td>332.470001</td>\n",
       "    </tr>\n",
       "    <tr>\n",
       "      <th>9407</th>\n",
       "      <td>2023-07-12</td>\n",
       "      <td>337.200012</td>\n",
       "    </tr>\n",
       "    <tr>\n",
       "      <th>9408</th>\n",
       "      <td>2023-07-13</td>\n",
       "      <td>342.660004</td>\n",
       "    </tr>\n",
       "    <tr>\n",
       "      <th>9409</th>\n",
       "      <td>2023-07-14</td>\n",
       "      <td>345.239990</td>\n",
       "    </tr>\n",
       "  </tbody>\n",
       "</table>\n",
       "<p>9410 rows × 2 columns</p>\n",
       "</div>"
      ],
      "text/plain": [
       "            Date       Close\n",
       "0     1986-03-13    0.097222\n",
       "1     1986-03-14    0.100694\n",
       "2     1986-03-17    0.102431\n",
       "3     1986-03-18    0.099826\n",
       "4     1986-03-19    0.098090\n",
       "...          ...         ...\n",
       "9405  2023-07-10  331.829987\n",
       "9406  2023-07-11  332.470001\n",
       "9407  2023-07-12  337.200012\n",
       "9408  2023-07-13  342.660004\n",
       "9409  2023-07-14  345.239990\n",
       "\n",
       "[9410 rows x 2 columns]"
      ]
     },
     "execution_count": 3,
     "metadata": {},
     "output_type": "execute_result"
    }
   ],
   "source": [
    "#disply only two columns of the dataset by discarding the other columns\n",
    "df=df[['Date','Close']]\n",
    "df"
   ]
  },
  {
   "cell_type": "code",
   "execution_count": 4,
   "id": "a832ec4c",
   "metadata": {},
   "outputs": [
    {
     "data": {
      "text/plain": [
       "0       1986-03-13\n",
       "1       1986-03-14\n",
       "2       1986-03-17\n",
       "3       1986-03-18\n",
       "4       1986-03-19\n",
       "           ...    \n",
       "9405    2023-07-10\n",
       "9406    2023-07-11\n",
       "9407    2023-07-12\n",
       "9408    2023-07-13\n",
       "9409    2023-07-14\n",
       "Name: Date, Length: 9410, dtype: object"
      ]
     },
     "execution_count": 4,
     "metadata": {},
     "output_type": "execute_result"
    }
   ],
   "source": [
    "df['Date']\n",
    "#'Date' is a string "
   ]
  },
  {
   "cell_type": "code",
   "execution_count": 5,
   "id": "298f12bf",
   "metadata": {},
   "outputs": [
    {
     "data": {
      "text/plain": [
       "datetime.datetime(1986, 3, 13, 0, 0)"
      ]
     },
     "execution_count": 5,
     "metadata": {},
     "output_type": "execute_result"
    }
   ],
   "source": [
    "#converting 'Date' from string to int (objects)\n",
    "import datetime\n",
    "def str_to_datetime(s):\n",
    "    split=s.split('-')\n",
    "    year, month, day=int(split[0]),int(split[1]),int(split[2])\n",
    "    return datetime.datetime(year=year, month=month, day=day)\n",
    "\n",
    "datetime_object=str_to_datetime('1986-03-13')\n",
    "datetime_object"
   ]
  },
  {
   "cell_type": "code",
   "execution_count": 6,
   "id": "498a2757",
   "metadata": {},
   "outputs": [
    {
     "name": "stderr",
     "output_type": "stream",
     "text": [
      "C:\\Users\\kvkv6\\AppData\\Local\\Temp/ipykernel_15424/1744593409.py:1: SettingWithCopyWarning: \n",
      "A value is trying to be set on a copy of a slice from a DataFrame.\n",
      "Try using .loc[row_indexer,col_indexer] = value instead\n",
      "\n",
      "See the caveats in the documentation: https://pandas.pydata.org/pandas-docs/stable/user_guide/indexing.html#returning-a-view-versus-a-copy\n",
      "  df['Date']=df['Date'].apply(str_to_datetime)\n"
     ]
    },
    {
     "data": {
      "text/plain": [
       "0      1986-03-13\n",
       "1      1986-03-14\n",
       "2      1986-03-17\n",
       "3      1986-03-18\n",
       "4      1986-03-19\n",
       "          ...    \n",
       "9405   2023-07-10\n",
       "9406   2023-07-11\n",
       "9407   2023-07-12\n",
       "9408   2023-07-13\n",
       "9409   2023-07-14\n",
       "Name: Date, Length: 9410, dtype: datetime64[ns]"
      ]
     },
     "execution_count": 6,
     "metadata": {},
     "output_type": "execute_result"
    }
   ],
   "source": [
    "df['Date']=df['Date'].apply(str_to_datetime)\n",
    "df['Date']\n",
    "#now,'Date' is converted to int objects"
   ]
  },
  {
   "cell_type": "code",
   "execution_count": 7,
   "id": "5b4e2e64",
   "metadata": {},
   "outputs": [
    {
     "data": {
      "text/html": [
       "<div>\n",
       "<style scoped>\n",
       "    .dataframe tbody tr th:only-of-type {\n",
       "        vertical-align: middle;\n",
       "    }\n",
       "\n",
       "    .dataframe tbody tr th {\n",
       "        vertical-align: top;\n",
       "    }\n",
       "\n",
       "    .dataframe thead th {\n",
       "        text-align: right;\n",
       "    }\n",
       "</style>\n",
       "<table border=\"1\" class=\"dataframe\">\n",
       "  <thead>\n",
       "    <tr style=\"text-align: right;\">\n",
       "      <th></th>\n",
       "      <th>Close</th>\n",
       "    </tr>\n",
       "    <tr>\n",
       "      <th>Date</th>\n",
       "      <th></th>\n",
       "    </tr>\n",
       "  </thead>\n",
       "  <tbody>\n",
       "    <tr>\n",
       "      <th>1986-03-13</th>\n",
       "      <td>0.097222</td>\n",
       "    </tr>\n",
       "    <tr>\n",
       "      <th>1986-03-14</th>\n",
       "      <td>0.100694</td>\n",
       "    </tr>\n",
       "    <tr>\n",
       "      <th>1986-03-17</th>\n",
       "      <td>0.102431</td>\n",
       "    </tr>\n",
       "    <tr>\n",
       "      <th>1986-03-18</th>\n",
       "      <td>0.099826</td>\n",
       "    </tr>\n",
       "    <tr>\n",
       "      <th>1986-03-19</th>\n",
       "      <td>0.098090</td>\n",
       "    </tr>\n",
       "    <tr>\n",
       "      <th>...</th>\n",
       "      <td>...</td>\n",
       "    </tr>\n",
       "    <tr>\n",
       "      <th>2023-07-10</th>\n",
       "      <td>331.829987</td>\n",
       "    </tr>\n",
       "    <tr>\n",
       "      <th>2023-07-11</th>\n",
       "      <td>332.470001</td>\n",
       "    </tr>\n",
       "    <tr>\n",
       "      <th>2023-07-12</th>\n",
       "      <td>337.200012</td>\n",
       "    </tr>\n",
       "    <tr>\n",
       "      <th>2023-07-13</th>\n",
       "      <td>342.660004</td>\n",
       "    </tr>\n",
       "    <tr>\n",
       "      <th>2023-07-14</th>\n",
       "      <td>345.239990</td>\n",
       "    </tr>\n",
       "  </tbody>\n",
       "</table>\n",
       "<p>9410 rows × 1 columns</p>\n",
       "</div>"
      ],
      "text/plain": [
       "                 Close\n",
       "Date                  \n",
       "1986-03-13    0.097222\n",
       "1986-03-14    0.100694\n",
       "1986-03-17    0.102431\n",
       "1986-03-18    0.099826\n",
       "1986-03-19    0.098090\n",
       "...                ...\n",
       "2023-07-10  331.829987\n",
       "2023-07-11  332.470001\n",
       "2023-07-12  337.200012\n",
       "2023-07-13  342.660004\n",
       "2023-07-14  345.239990\n",
       "\n",
       "[9410 rows x 1 columns]"
      ]
     },
     "execution_count": 7,
     "metadata": {},
     "output_type": "execute_result"
    }
   ],
   "source": [
    "#make 'Date' column the index\n",
    "df.index=df.pop('Date')\n",
    "df"
   ]
  },
  {
   "cell_type": "code",
   "execution_count": 8,
   "id": "686d4c43",
   "metadata": {},
   "outputs": [
    {
     "data": {
      "text/plain": [
       "[<matplotlib.lines.Line2D at 0x150d17e8e50>]"
      ]
     },
     "execution_count": 8,
     "metadata": {},
     "output_type": "execute_result"
    },
    {
     "data": {
      "image/png": "[encoded data removed]",
      "text/plain": [
       "<Figure size 432x288 with 1 Axes>"
      ]
     },
     "metadata": {
      "needs_background": "light"
     },
     "output_type": "display_data"
    }
   ],
   "source": [
    "#plot data using matplotlib\n",
    "import matplotlib.pyplot as plt\n",
    "plt.plot(df.index,df['Close'])"
   ]
  },
  {
   "cell_type": "code",
   "execution_count": 9,
   "id": "9dc2a8bb",
   "metadata": {},
   "outputs": [
    {
     "data": {
      "text/html": [
       "<div>\n",
       "<style scoped>\n",
       "    .dataframe tbody tr th:only-of-type {\n",
       "        vertical-align: middle;\n",
       "    }\n",
       "\n",
       "    .dataframe tbody tr th {\n",
       "        vertical-align: top;\n",
       "    }\n",
       "\n",
       "    .dataframe thead th {\n",
       "        text-align: right;\n",
       "    }\n",
       "</style>\n",
       "<table border=\"1\" class=\"dataframe\">\n",
       "  <thead>\n",
       "    <tr style=\"text-align: right;\">\n",
       "      <th></th>\n",
       "      <th>Target Date</th>\n",
       "      <th>Target-3</th>\n",
       "      <th>Target-2</th>\n",
       "      <th>Target-1</th>\n",
       "      <th>Target</th>\n",
       "    </tr>\n",
       "  </thead>\n",
       "  <tbody>\n",
       "    <tr>\n",
       "      <th>0</th>\n",
       "      <td>2021-03-25</td>\n",
       "      <td>235.990005</td>\n",
       "      <td>237.580002</td>\n",
       "      <td>235.460007</td>\n",
       "      <td>232.339996</td>\n",
       "    </tr>\n",
       "    <tr>\n",
       "      <th>1</th>\n",
       "      <td>2021-03-26</td>\n",
       "      <td>237.580002</td>\n",
       "      <td>235.460007</td>\n",
       "      <td>232.339996</td>\n",
       "      <td>236.479996</td>\n",
       "    </tr>\n",
       "    <tr>\n",
       "      <th>2</th>\n",
       "      <td>2021-03-29</td>\n",
       "      <td>235.460007</td>\n",
       "      <td>232.339996</td>\n",
       "      <td>236.479996</td>\n",
       "      <td>235.240005</td>\n",
       "    </tr>\n",
       "    <tr>\n",
       "      <th>3</th>\n",
       "      <td>2021-03-30</td>\n",
       "      <td>232.339996</td>\n",
       "      <td>236.479996</td>\n",
       "      <td>235.240005</td>\n",
       "      <td>231.850006</td>\n",
       "    </tr>\n",
       "    <tr>\n",
       "      <th>4</th>\n",
       "      <td>2021-03-31</td>\n",
       "      <td>236.479996</td>\n",
       "      <td>235.240005</td>\n",
       "      <td>231.850006</td>\n",
       "      <td>235.770004</td>\n",
       "    </tr>\n",
       "    <tr>\n",
       "      <th>...</th>\n",
       "      <td>...</td>\n",
       "      <td>...</td>\n",
       "      <td>...</td>\n",
       "      <td>...</td>\n",
       "      <td>...</td>\n",
       "    </tr>\n",
       "    <tr>\n",
       "      <th>575</th>\n",
       "      <td>2023-07-10</td>\n",
       "      <td>338.149994</td>\n",
       "      <td>341.269989</td>\n",
       "      <td>337.220001</td>\n",
       "      <td>331.829987</td>\n",
       "    </tr>\n",
       "    <tr>\n",
       "      <th>576</th>\n",
       "      <td>2023-07-11</td>\n",
       "      <td>341.269989</td>\n",
       "      <td>337.220001</td>\n",
       "      <td>331.829987</td>\n",
       "      <td>332.470001</td>\n",
       "    </tr>\n",
       "    <tr>\n",
       "      <th>577</th>\n",
       "      <td>2023-07-12</td>\n",
       "      <td>337.220001</td>\n",
       "      <td>331.829987</td>\n",
       "      <td>332.470001</td>\n",
       "      <td>337.200012</td>\n",
       "    </tr>\n",
       "    <tr>\n",
       "      <th>578</th>\n",
       "      <td>2023-07-13</td>\n",
       "      <td>331.829987</td>\n",
       "      <td>332.470001</td>\n",
       "      <td>337.200012</td>\n",
       "      <td>342.660004</td>\n",
       "    </tr>\n",
       "    <tr>\n",
       "      <th>579</th>\n",
       "      <td>2023-07-14</td>\n",
       "      <td>332.470001</td>\n",
       "      <td>337.200012</td>\n",
       "      <td>342.660004</td>\n",
       "      <td>345.239990</td>\n",
       "    </tr>\n",
       "  </tbody>\n",
       "</table>\n",
       "<p>580 rows × 5 columns</p>\n",
       "</div>"
      ],
      "text/plain": [
       "    Target Date    Target-3    Target-2    Target-1      Target\n",
       "0    2021-03-25  235.990005  237.580002  235.460007  232.339996\n",
       "1    2021-03-26  237.580002  235.460007  232.339996  236.479996\n",
       "2    2021-03-29  235.460007  232.339996  236.479996  235.240005\n",
       "3    2021-03-30  232.339996  236.479996  235.240005  231.850006\n",
       "4    2021-03-31  236.479996  235.240005  231.850006  235.770004\n",
       "..          ...         ...         ...         ...         ...\n",
       "575  2023-07-10  338.149994  341.269989  337.220001  331.829987\n",
       "576  2023-07-11  341.269989  337.220001  331.829987  332.470001\n",
       "577  2023-07-12  337.220001  331.829987  332.470001  337.200012\n",
       "578  2023-07-13  331.829987  332.470001  337.200012  342.660004\n",
       "579  2023-07-14  332.470001  337.200012  342.660004  345.239990\n",
       "\n",
       "[580 rows x 5 columns]"
      ]
     },
     "execution_count": 9,
     "metadata": {},
     "output_type": "execute_result"
    }
   ],
   "source": [
    "#LSTM needs the model to be converted into a supervised learning framework\n",
    "import numpy as np\n",
    "\n",
    "def df_to_windowed_df(dataframe, first_date_str, last_date_str, n=3):\n",
    "    first_date = str_to_datetime(first_date_str)\n",
    "    last_date  = str_to_datetime(last_date_str)\n",
    "    target_date = first_date\n",
    "    dates = []\n",
    "    X, Y = [], []\n",
    "    last_time = False\n",
    "    while True:\n",
    "        df_subset = dataframe.loc[:target_date].tail(n+1)\n",
    "        if len(df_subset) != n+1:\n",
    "            print(f'Error: Window of size {n} is too large for date {target_date}')\n",
    "            return\n",
    "        values = df_subset['Close'].to_numpy()\n",
    "        x, y = values[:-1], values[-1]\n",
    "        dates.append(target_date)\n",
    "        X.append(x)\n",
    "        Y.append(y)\n",
    "        next_week = dataframe.loc[target_date:target_date+datetime.timedelta(days=7)]\n",
    "        next_datetime_str = str(next_week.head(2).tail(1).index.values[0])\n",
    "        next_date_str = next_datetime_str.split('T')[0]\n",
    "        year_month_day = next_date_str.split('-')\n",
    "        year, month, day = year_month_day\n",
    "        next_date = datetime.datetime(day=int(day), month=int(month), year=int(year))\n",
    "        if last_time:\n",
    "            break\n",
    "        target_date = next_date\n",
    "        if target_date == last_date:\n",
    "            last_time = True\n",
    "    ret_df = pd.DataFrame({})\n",
    "    ret_df['Target Date'] = dates\n",
    "    X = np.array(X)\n",
    "    for i in range(0, n):\n",
    "        X[:, i]\n",
    "        ret_df[f'Target-{n-i}'] = X[:, i]\n",
    "    ret_df['Target'] = Y\n",
    "    return ret_df\n",
    "# Start day second time around: '2021-03-25'\n",
    "windowed_df = df_to_windowed_df(df, \n",
    "                                '2021-03-25', \n",
    "                                '2023-07-14', \n",
    "                                n=3)\n",
    "windowed_df"
   ]
  },
  {
   "cell_type": "code",
   "execution_count": 10,
   "id": "39c856cf",
   "metadata": {},
   "outputs": [
    {
     "data": {
      "text/plain": [
       "((580,), (580, 3, 1), (580,))"
      ]
     },
     "execution_count": 10,
     "metadata": {},
     "output_type": "execute_result"
    }
   ],
   "source": [
    "#convert data into numpy arrays to feed it directly into tensorflow model \n",
    "def windowed_df_to_date_X_y(windowed_dataframe):\n",
    "#get date, input matrix is x and y is the output vector\n",
    "#parameter = windowed_dataframe\n",
    "#convert whole dataframe into numpy array\n",
    "    df_as_np=windowed_dataframe.to_numpy()\n",
    "#getting the dates\n",
    "    dates = df_as_np[:, 0]\n",
    "#input matrix is obtained from a middle matrix\n",
    "    middle_matrix = df_as_np[:, 1:-1]\n",
    "    X = middle_matrix.reshape((len(dates), middle_matrix.shape[1], 1))\n",
    "#output vector   \n",
    "    Y = df_as_np[:, -1]\n",
    "    return dates, X.astype(np.float32), Y.astype(np.float32)\n",
    "#calling the function\n",
    "dates, X, y = windowed_df_to_date_X_y(windowed_df)\n",
    "dates.shape, X.shape, y.shape"
   ]
  },
  {
   "cell_type": "code",
   "execution_count": 11,
   "id": "521165b5",
   "metadata": {},
   "outputs": [
    {
     "data": {
      "text/plain": [
       "<matplotlib.legend.Legend at 0x150d1fc6af0>"
      ]
     },
     "execution_count": 11,
     "metadata": {},
     "output_type": "execute_result"
    },
    {
     "data": {
      "image/png": "[encoded data removed]",
      "text/plain": [
       "<Figure size 432x288 with 1 Axes>"
      ]
     },
     "metadata": {
      "needs_background": "light"
     },
     "output_type": "display_data"
    }
   ],
   "source": [
    "#split into train, validation, test\n",
    "#train = trains the model\n",
    "#validation = helps to train the model\n",
    "#test = evaluate the performance\n",
    "#integer of length of dates\n",
    "#80%\n",
    "q_80 = int(len(dates) * .8)\n",
    "#90%\n",
    "q_90 = int(len(dates) * .9)\n",
    "#training - first 80%\n",
    "dates_train, X_train, y_train = dates[:q_80], X[:q_80], y[:q_80]\n",
    "#validation - 80% to 90%\n",
    "dates_val, X_val, y_val = dates[q_80:q_90], X[q_80:q_90], y[q_80:q_90]\n",
    "#test - final 10%\n",
    "dates_test, X_test, y_test = dates[q_90:], X[q_90:], y[q_90:]\n",
    "#visualize \n",
    "plt.plot(dates_train, y_train)\n",
    "plt.plot(dates_val, y_val)\n",
    "plt.plot(dates_test, y_test)\n",
    "plt.legend(['Train', 'Validation', 'Test'])"
   ]
  },
  {
   "cell_type": "code",
   "execution_count": 12,
   "id": "96333b04",
   "metadata": {},
   "outputs": [
    {
     "name": "stdout",
     "output_type": "stream",
     "text": [
      "Epoch 1/100\n",
      "15/15 [==============================] - 3s 58ms/step - loss: 76812.6094 - mean_absolute_error: 275.4558 - val_loss: 71339.9141 - val_mean_absolute_error: 266.6924\n",
      "Epoch 2/100\n",
      "15/15 [==============================] - 0s 5ms/step - loss: 76018.9062 - mean_absolute_error: 274.0085 - val_loss: 70331.4922 - val_mean_absolute_error: 264.7946\n",
      "Epoch 3/100\n",
      "15/15 [==============================] - 0s 5ms/step - loss: 74621.5234 - mean_absolute_error: 271.4398 - val_loss: 68591.7031 - val_mean_absolute_error: 261.4883\n",
      "Epoch 4/100\n",
      "15/15 [==============================] - 0s 6ms/step - loss: 72277.0547 - mean_absolute_error: 267.0768 - val_loss: 65493.1133 - val_mean_absolute_error: 255.4949\n",
      "Epoch 5/100\n",
      "15/15 [==============================] - 0s 7ms/step - loss: 68280.4141 - mean_absolute_error: 259.4846 - val_loss: 60501.4062 - val_mean_absolute_error: 245.5316\n",
      "Epoch 6/100\n",
      "15/15 [==============================] - 0s 9ms/step - loss: 62120.9336 - mean_absolute_error: 247.3176 - val_loss: 53327.7891 - val_mean_absolute_error: 230.4578\n",
      "Epoch 7/100\n",
      "15/15 [==============================] - 0s 11ms/step - loss: 53408.4492 - mean_absolute_error: 228.9684 - val_loss: 43754.3242 - val_mean_absolute_error: 208.6597\n",
      "Epoch 8/100\n",
      "15/15 [==============================] - 0s 11ms/step - loss: 42809.1172 - mean_absolute_error: 204.4753 - val_loss: 32808.7422 - val_mean_absolute_error: 180.5357\n",
      "Epoch 9/100\n",
      "15/15 [==============================] - 0s 12ms/step - loss: 30898.0469 - mean_absolute_error: 172.9330 - val_loss: 21014.3164 - val_mean_absolute_error: 144.2135\n",
      "Epoch 10/100\n",
      "15/15 [==============================] - 0s 10ms/step - loss: 18828.9102 - mean_absolute_error: 133.3082 - val_loss: 10660.5430 - val_mean_absolute_error: 102.2020\n",
      "Epoch 11/100\n",
      "15/15 [==============================] - 0s 6ms/step - loss: 9403.7012 - mean_absolute_error: 91.2197 - val_loss: 3893.1921 - val_mean_absolute_error: 60.6385\n",
      "Epoch 12/100\n",
      "15/15 [==============================] - 0s 6ms/step - loss: 3717.9807 - mean_absolute_error: 51.8279 - val_loss: 844.5442 - val_mean_absolute_error: 25.0956\n",
      "Epoch 13/100\n",
      "15/15 [==============================] - 0s 6ms/step - loss: 1485.6813 - mean_absolute_error: 29.8224 - val_loss: 220.1351 - val_mean_absolute_error: 13.1326\n",
      "Epoch 14/100\n",
      "15/15 [==============================] - 0s 6ms/step - loss: 964.3268 - mean_absolute_error: 26.0386 - val_loss: 274.8770 - val_mean_absolute_error: 14.1900\n",
      "Epoch 15/100\n",
      "15/15 [==============================] - 0s 11ms/step - loss: 942.1576 - mean_absolute_error: 26.0995 - val_loss: 316.9930 - val_mean_absolute_error: 14.9773\n",
      "Epoch 16/100\n",
      "15/15 [==============================] - 0s 11ms/step - loss: 942.7658 - mean_absolute_error: 26.1021 - val_loss: 300.2839 - val_mean_absolute_error: 14.6654\n",
      "Epoch 17/100\n",
      "15/15 [==============================] - 0s 12ms/step - loss: 939.4615 - mean_absolute_error: 26.0642 - val_loss: 292.0523 - val_mean_absolute_error: 14.5078\n",
      "Epoch 18/100\n",
      "15/15 [==============================] - 0s 11ms/step - loss: 938.8263 - mean_absolute_error: 26.0580 - val_loss: 283.1771 - val_mean_absolute_error: 14.3336\n",
      "Epoch 19/100\n",
      "15/15 [==============================] - 0s 12ms/step - loss: 937.7950 - mean_absolute_error: 26.0450 - val_loss: 293.3060 - val_mean_absolute_error: 14.5323\n",
      "Epoch 20/100\n",
      "15/15 [==============================] - 0s 13ms/step - loss: 938.0176 - mean_absolute_error: 26.0457 - val_loss: 287.3634 - val_mean_absolute_error: 14.4142\n",
      "Epoch 21/100\n",
      "15/15 [==============================] - 0s 13ms/step - loss: 937.7446 - mean_absolute_error: 26.0410 - val_loss: 279.5736 - val_mean_absolute_error: 14.2719\n",
      "Epoch 22/100\n",
      "15/15 [==============================] - 0s 14ms/step - loss: 936.5406 - mean_absolute_error: 26.0189 - val_loss: 252.4235 - val_mean_absolute_error: 13.7373\n",
      "Epoch 23/100\n",
      "15/15 [==============================] - 0s 13ms/step - loss: 909.4746 - mean_absolute_error: 25.5236 - val_loss: 201.4857 - val_mean_absolute_error: 12.5462\n",
      "Epoch 24/100\n",
      "15/15 [==============================] - 0s 14ms/step - loss: 853.5353 - mean_absolute_error: 24.4659 - val_loss: 220.4336 - val_mean_absolute_error: 12.8533\n",
      "Epoch 25/100\n",
      "15/15 [==============================] - 0s 13ms/step - loss: 784.0094 - mean_absolute_error: 23.5985 - val_loss: 165.9610 - val_mean_absolute_error: 11.4577\n",
      "Epoch 26/100\n",
      "15/15 [==============================] - 0s 13ms/step - loss: 736.0790 - mean_absolute_error: 22.4678 - val_loss: 178.3945 - val_mean_absolute_error: 11.5222\n",
      "Epoch 27/100\n",
      "15/15 [==============================] - 0s 13ms/step - loss: 676.4309 - mean_absolute_error: 21.9620 - val_loss: 200.8286 - val_mean_absolute_error: 11.9522\n",
      "Epoch 28/100\n",
      "15/15 [==============================] - 0s 13ms/step - loss: 587.4841 - mean_absolute_error: 20.0500 - val_loss: 113.4434 - val_mean_absolute_error: 9.4707\n",
      "Epoch 29/100\n",
      "15/15 [==============================] - 0s 12ms/step - loss: 505.7695 - mean_absolute_error: 18.4453 - val_loss: 102.8461 - val_mean_absolute_error: 8.7545\n",
      "Epoch 30/100\n",
      "15/15 [==============================] - 0s 13ms/step - loss: 415.5966 - mean_absolute_error: 16.6856 - val_loss: 71.6231 - val_mean_absolute_error: 7.5180\n",
      "Epoch 31/100\n",
      "15/15 [==============================] - 0s 13ms/step - loss: 343.8802 - mean_absolute_error: 14.9555 - val_loss: 57.3143 - val_mean_absolute_error: 6.7201\n",
      "Epoch 32/100\n",
      "15/15 [==============================] - 0s 13ms/step - loss: 277.9493 - mean_absolute_error: 12.9196 - val_loss: 154.7624 - val_mean_absolute_error: 10.3168\n",
      "Epoch 33/100\n",
      "15/15 [==============================] - 0s 8ms/step - loss: 228.2936 - mean_absolute_error: 11.7384 - val_loss: 38.4227 - val_mean_absolute_error: 5.2613\n",
      "Epoch 34/100\n",
      "15/15 [==============================] - 0s 6ms/step - loss: 166.1685 - mean_absolute_error: 9.6760 - val_loss: 40.9850 - val_mean_absolute_error: 5.2566\n",
      "Epoch 35/100\n",
      "15/15 [==============================] - 0s 14ms/step - loss: 132.4236 - mean_absolute_error: 8.5001 - val_loss: 42.4617 - val_mean_absolute_error: 5.2818\n",
      "Epoch 36/100\n",
      "15/15 [==============================] - 0s 6ms/step - loss: 106.9397 - mean_absolute_error: 7.5129 - val_loss: 24.1704 - val_mean_absolute_error: 4.0509\n",
      "Epoch 37/100\n",
      "15/15 [==============================] - 0s 6ms/step - loss: 83.0799 - mean_absolute_error: 6.5158 - val_loss: 23.4396 - val_mean_absolute_error: 4.0498\n",
      "Epoch 38/100\n",
      "15/15 [==============================] - 0s 6ms/step - loss: 72.2999 - mean_absolute_error: 6.1601 - val_loss: 29.0955 - val_mean_absolute_error: 4.1932\n",
      "Epoch 39/100\n",
      "15/15 [==============================] - 0s 14ms/step - loss: 66.9391 - mean_absolute_error: 6.1336 - val_loss: 28.9793 - val_mean_absolute_error: 4.1709\n",
      "Epoch 40/100\n",
      "15/15 [==============================] - 0s 14ms/step - loss: 61.3168 - mean_absolute_error: 5.9493 - val_loss: 31.4958 - val_mean_absolute_error: 4.6954\n",
      "Epoch 41/100\n",
      "15/15 [==============================] - 0s 13ms/step - loss: 56.4054 - mean_absolute_error: 5.5822 - val_loss: 38.9479 - val_mean_absolute_error: 5.1998\n",
      "Epoch 42/100\n",
      "15/15 [==============================] - 0s 13ms/step - loss: 55.9638 - mean_absolute_error: 5.8140 - val_loss: 44.3483 - val_mean_absolute_error: 5.0483\n",
      "Epoch 43/100\n",
      "15/15 [==============================] - 0s 13ms/step - loss: 52.6144 - mean_absolute_error: 5.6086 - val_loss: 36.5822 - val_mean_absolute_error: 4.5448\n",
      "Epoch 44/100\n",
      "15/15 [==============================] - 0s 13ms/step - loss: 48.6615 - mean_absolute_error: 5.4346 - val_loss: 48.1307 - val_mean_absolute_error: 5.3330\n",
      "Epoch 45/100\n",
      "15/15 [==============================] - 0s 13ms/step - loss: 52.2234 - mean_absolute_error: 5.6898 - val_loss: 37.3053 - val_mean_absolute_error: 4.5801\n",
      "Epoch 46/100\n",
      "15/15 [==============================] - 0s 13ms/step - loss: 47.4706 - mean_absolute_error: 5.4341 - val_loss: 32.4572 - val_mean_absolute_error: 4.2776\n",
      "Epoch 47/100\n",
      "15/15 [==============================] - 0s 13ms/step - loss: 44.6305 - mean_absolute_error: 5.1844 - val_loss: 38.7864 - val_mean_absolute_error: 4.6689\n",
      "Epoch 48/100\n",
      "15/15 [==============================] - 0s 13ms/step - loss: 48.8006 - mean_absolute_error: 5.5250 - val_loss: 25.8645 - val_mean_absolute_error: 4.3237\n",
      "Epoch 49/100\n",
      "15/15 [==============================] - 0s 9ms/step - loss: 40.7814 - mean_absolute_error: 4.9182 - val_loss: 26.4013 - val_mean_absolute_error: 4.2050\n",
      "Epoch 50/100\n",
      "15/15 [==============================] - 0s 14ms/step - loss: 36.9422 - mean_absolute_error: 4.6978 - val_loss: 26.8626 - val_mean_absolute_error: 4.4686\n",
      "Epoch 51/100\n",
      "15/15 [==============================] - 0s 14ms/step - loss: 36.4758 - mean_absolute_error: 4.7308 - val_loss: 27.6708 - val_mean_absolute_error: 4.2000\n",
      "Epoch 52/100\n",
      "15/15 [==============================] - 0s 14ms/step - loss: 38.7152 - mean_absolute_error: 4.8407 - val_loss: 28.8622 - val_mean_absolute_error: 4.1069\n",
      "Epoch 53/100\n",
      "15/15 [==============================] - 0s 13ms/step - loss: 34.9108 - mean_absolute_error: 4.5916 - val_loss: 26.3816 - val_mean_absolute_error: 4.2038\n",
      "Epoch 54/100\n",
      "15/15 [==============================] - 0s 13ms/step - loss: 34.4619 - mean_absolute_error: 4.6416 - val_loss: 26.2364 - val_mean_absolute_error: 4.3883\n",
      "Epoch 55/100\n",
      "15/15 [==============================] - 0s 16ms/step - loss: 34.8588 - mean_absolute_error: 4.6606 - val_loss: 43.2166 - val_mean_absolute_error: 5.4851\n",
      "Epoch 56/100\n",
      "15/15 [==============================] - 0s 14ms/step - loss: 36.8546 - mean_absolute_error: 4.7665 - val_loss: 26.5606 - val_mean_absolute_error: 4.2191\n",
      "Epoch 57/100\n",
      "15/15 [==============================] - 0s 15ms/step - loss: 37.2031 - mean_absolute_error: 4.7579 - val_loss: 25.4951 - val_mean_absolute_error: 4.2585\n",
      "Epoch 58/100\n",
      "15/15 [==============================] - 0s 12ms/step - loss: 36.7233 - mean_absolute_error: 4.8402 - val_loss: 36.0735 - val_mean_absolute_error: 4.4936\n",
      "Epoch 59/100\n",
      "15/15 [==============================] - 0s 14ms/step - loss: 33.4756 - mean_absolute_error: 4.5185 - val_loss: 26.7808 - val_mean_absolute_error: 4.1241\n",
      "Epoch 60/100\n",
      "15/15 [==============================] - 0s 13ms/step - loss: 32.0820 - mean_absolute_error: 4.4227 - val_loss: 29.8912 - val_mean_absolute_error: 4.1149\n",
      "Epoch 61/100\n",
      "15/15 [==============================] - 0s 14ms/step - loss: 32.1090 - mean_absolute_error: 4.4411 - val_loss: 28.1963 - val_mean_absolute_error: 4.5847\n",
      "Epoch 62/100\n",
      "15/15 [==============================] - 0s 14ms/step - loss: 32.8186 - mean_absolute_error: 4.4898 - val_loss: 26.2186 - val_mean_absolute_error: 4.1738\n",
      "Epoch 63/100\n",
      "15/15 [==============================] - 0s 13ms/step - loss: 31.3551 - mean_absolute_error: 4.4020 - val_loss: 25.7991 - val_mean_absolute_error: 4.2521\n",
      "Epoch 64/100\n",
      "15/15 [==============================] - 0s 13ms/step - loss: 32.2813 - mean_absolute_error: 4.4273 - val_loss: 28.8568 - val_mean_absolute_error: 4.0992\n",
      "Epoch 65/100\n",
      "15/15 [==============================] - 0s 13ms/step - loss: 34.1713 - mean_absolute_error: 4.5621 - val_loss: 47.8692 - val_mean_absolute_error: 5.4019\n",
      "Epoch 66/100\n",
      "15/15 [==============================] - 0s 13ms/step - loss: 36.2770 - mean_absolute_error: 4.8039 - val_loss: 25.2227 - val_mean_absolute_error: 4.2031\n",
      "Epoch 67/100\n",
      "15/15 [==============================] - 0s 15ms/step - loss: 34.5245 - mean_absolute_error: 4.6528 - val_loss: 31.0779 - val_mean_absolute_error: 4.7201\n",
      "Epoch 68/100\n",
      "15/15 [==============================] - 0s 13ms/step - loss: 36.9961 - mean_absolute_error: 4.8686 - val_loss: 25.7656 - val_mean_absolute_error: 4.3850\n",
      "Epoch 69/100\n",
      "15/15 [==============================] - 0s 13ms/step - loss: 37.7877 - mean_absolute_error: 4.8262 - val_loss: 27.8637 - val_mean_absolute_error: 4.5466\n",
      "Epoch 70/100\n",
      "15/15 [==============================] - 0s 13ms/step - loss: 35.3498 - mean_absolute_error: 4.6952 - val_loss: 26.3397 - val_mean_absolute_error: 4.0308\n",
      "Epoch 71/100\n",
      "15/15 [==============================] - 0s 13ms/step - loss: 32.4168 - mean_absolute_error: 4.4318 - val_loss: 26.1383 - val_mean_absolute_error: 4.1196\n",
      "Epoch 72/100\n",
      "15/15 [==============================] - 0s 13ms/step - loss: 31.3149 - mean_absolute_error: 4.3924 - val_loss: 25.7257 - val_mean_absolute_error: 4.2543\n",
      "Epoch 73/100\n",
      "15/15 [==============================] - 0s 13ms/step - loss: 33.1913 - mean_absolute_error: 4.5515 - val_loss: 35.0212 - val_mean_absolute_error: 4.4366\n",
      "Epoch 74/100\n",
      "15/15 [==============================] - 0s 13ms/step - loss: 33.6944 - mean_absolute_error: 4.5963 - val_loss: 25.6879 - val_mean_absolute_error: 4.0742\n",
      "Epoch 75/100\n",
      "15/15 [==============================] - 0s 13ms/step - loss: 30.8388 - mean_absolute_error: 4.3389 - val_loss: 31.9366 - val_mean_absolute_error: 4.2391\n",
      "Epoch 76/100\n",
      "15/15 [==============================] - 0s 13ms/step - loss: 34.2536 - mean_absolute_error: 4.6149 - val_loss: 28.2864 - val_mean_absolute_error: 4.0460\n",
      "Epoch 77/100\n",
      "15/15 [==============================] - 0s 13ms/step - loss: 41.5527 - mean_absolute_error: 5.1806 - val_loss: 28.3495 - val_mean_absolute_error: 4.0414\n",
      "Epoch 78/100\n",
      "15/15 [==============================] - 0s 13ms/step - loss: 37.0814 - mean_absolute_error: 4.8326 - val_loss: 30.3891 - val_mean_absolute_error: 4.1336\n",
      "Epoch 79/100\n",
      "15/15 [==============================] - 0s 13ms/step - loss: 31.2290 - mean_absolute_error: 4.4345 - val_loss: 30.3640 - val_mean_absolute_error: 4.1295\n",
      "Epoch 80/100\n",
      "15/15 [==============================] - 0s 13ms/step - loss: 30.4963 - mean_absolute_error: 4.4082 - val_loss: 25.0387 - val_mean_absolute_error: 4.1920\n",
      "Epoch 81/100\n",
      "15/15 [==============================] - 0s 13ms/step - loss: 32.2726 - mean_absolute_error: 4.5158 - val_loss: 24.7453 - val_mean_absolute_error: 4.1457\n",
      "Epoch 82/100\n",
      "15/15 [==============================] - 0s 13ms/step - loss: 30.5442 - mean_absolute_error: 4.3477 - val_loss: 31.0029 - val_mean_absolute_error: 4.1781\n",
      "Epoch 83/100\n",
      "15/15 [==============================] - 0s 13ms/step - loss: 34.3959 - mean_absolute_error: 4.6643 - val_loss: 32.2174 - val_mean_absolute_error: 4.2464\n",
      "Epoch 84/100\n",
      "15/15 [==============================] - 0s 13ms/step - loss: 29.8775 - mean_absolute_error: 4.2967 - val_loss: 24.0007 - val_mean_absolute_error: 4.0949\n",
      "Epoch 85/100\n",
      "15/15 [==============================] - 0s 13ms/step - loss: 35.9271 - mean_absolute_error: 4.8241 - val_loss: 29.9482 - val_mean_absolute_error: 4.1087\n",
      "Epoch 86/100\n",
      "15/15 [==============================] - 0s 13ms/step - loss: 38.8769 - mean_absolute_error: 4.9716 - val_loss: 25.3240 - val_mean_absolute_error: 4.0436\n",
      "Epoch 87/100\n",
      "15/15 [==============================] - 0s 14ms/step - loss: 36.1763 - mean_absolute_error: 4.7755 - val_loss: 24.4959 - val_mean_absolute_error: 4.2005\n",
      "Epoch 88/100\n",
      "15/15 [==============================] - 0s 14ms/step - loss: 33.7171 - mean_absolute_error: 4.5493 - val_loss: 30.5090 - val_mean_absolute_error: 4.6597\n",
      "Epoch 89/100\n",
      "15/15 [==============================] - 0s 13ms/step - loss: 35.4795 - mean_absolute_error: 4.6520 - val_loss: 37.2890 - val_mean_absolute_error: 5.0923\n",
      "Epoch 90/100\n",
      "15/15 [==============================] - 0s 13ms/step - loss: 46.8582 - mean_absolute_error: 5.5375 - val_loss: 49.4885 - val_mean_absolute_error: 5.9688\n",
      "Epoch 91/100\n",
      "15/15 [==============================] - 0s 13ms/step - loss: 40.7252 - mean_absolute_error: 5.1265 - val_loss: 24.7766 - val_mean_absolute_error: 4.2756\n",
      "Epoch 92/100\n",
      "15/15 [==============================] - 0s 13ms/step - loss: 30.8869 - mean_absolute_error: 4.4041 - val_loss: 24.5078 - val_mean_absolute_error: 4.1075\n",
      "Epoch 93/100\n",
      "15/15 [==============================] - 0s 13ms/step - loss: 28.9066 - mean_absolute_error: 4.1971 - val_loss: 31.3952 - val_mean_absolute_error: 4.2024\n",
      "Epoch 94/100\n",
      "15/15 [==============================] - 0s 13ms/step - loss: 33.0147 - mean_absolute_error: 4.4955 - val_loss: 28.0364 - val_mean_absolute_error: 4.0054\n",
      "Epoch 95/100\n",
      "15/15 [==============================] - 0s 15ms/step - loss: 33.7494 - mean_absolute_error: 4.5391 - val_loss: 26.0768 - val_mean_absolute_error: 3.9901\n",
      "Epoch 96/100\n",
      "15/15 [==============================] - 0s 8ms/step - loss: 33.1928 - mean_absolute_error: 4.5052 - val_loss: 24.9450 - val_mean_absolute_error: 3.9184\n",
      "Epoch 97/100\n",
      "15/15 [==============================] - 0s 9ms/step - loss: 29.6534 - mean_absolute_error: 4.3346 - val_loss: 26.7078 - val_mean_absolute_error: 3.9831\n",
      "Epoch 98/100\n",
      "15/15 [==============================] - 0s 9ms/step - loss: 29.1682 - mean_absolute_error: 4.2333 - val_loss: 28.4563 - val_mean_absolute_error: 4.0318\n",
      "Epoch 99/100\n",
      "15/15 [==============================] - 0s 10ms/step - loss: 30.5058 - mean_absolute_error: 4.3257 - val_loss: 25.8566 - val_mean_absolute_error: 4.3706\n",
      "Epoch 100/100\n",
      "15/15 [==============================] - 0s 11ms/step - loss: 30.3138 - mean_absolute_error: 4.2968 - val_loss: 25.2232 - val_mean_absolute_error: 3.9543\n"
     ]
    },
    {
     "data": {
      "text/plain": [
       "<keras.callbacks.History at 0x150e199ef40>"
      ]
     },
     "execution_count": 12,
     "metadata": {},
     "output_type": "execute_result"
    }
   ],
   "source": [
    "#train the model\n",
    "#do the necessary imports\n",
    "from tensorflow.keras.models import Sequential\n",
    "from tensorflow.keras.optimizers import Adam\n",
    "from tensorflow.keras import layers\n",
    "#create the model\n",
    "#specify the shape of input\n",
    "#64 LSTM is big but not relatively big number of neurons\n",
    "#add a dense layer \n",
    "#stacking dense layers\n",
    "#activation function = ReLu\n",
    "model = Sequential([layers.Input((3, 1)),\n",
    "                    layers.LSTM(64),\n",
    "                    layers.Dense(32, activation='relu'),\n",
    "                    layers.Dense(32, activation='relu'),\n",
    "                    layers.Dense(1)])\n",
    "#compile the model\n",
    "#loss function = Mean Squared error\n",
    "#optimizer = Adam\n",
    "model.compile(loss='mse', \n",
    "              optimizer=Adam(learning_rate=0.001),\n",
    "              metrics=['mean_absolute_error'])\n",
    "#fit the model\n",
    "#100 epochs = 100 runs in the dataset\n",
    "model.fit(X_train, y_train, validation_data=(X_val, y_val), epochs=100)"
   ]
  },
  {
   "cell_type": "code",
   "execution_count": 13,
   "id": "9bc67b38",
   "metadata": {},
   "outputs": [
    {
     "data": {
      "text/plain": [
       "<matplotlib.legend.Legend at 0x150e614dd30>"
      ]
     },
     "execution_count": 13,
     "metadata": {},
     "output_type": "execute_result"
    },
    {
     "data": {
      "image/png": "[encoded data removed]",
      "text/plain": [
       "<Figure size 432x288 with 1 Axes>"
      ]
     },
     "metadata": {
      "needs_background": "light"
     },
     "output_type": "display_data"
    }
   ],
   "source": [
    "#training\n",
    "train_predictions = model.predict(X_train).flatten()\n",
    "plt.plot(dates_train, train_predictions)\n",
    "plt.plot(dates_train, y_train)\n",
    "plt.legend(['Training Predictions', 'Training Observations'])"
   ]
  },
  {
   "cell_type": "code",
   "execution_count": 14,
   "id": "cafc5deb",
   "metadata": {},
   "outputs": [
    {
     "data": {
      "text/plain": [
       "<matplotlib.legend.Legend at 0x150e61e2fd0>"
      ]
     },
     "execution_count": 14,
     "metadata": {},
     "output_type": "execute_result"
    },
    {
     "data": {
      "image/png": "[encoded data removed]",
      "text/plain": [
       "<Figure size 432x288 with 1 Axes>"
      ]
     },
     "metadata": {
      "needs_background": "light"
     },
     "output_type": "display_data"
    }
   ],
   "source": [
    "#validation\n",
    "val_predictions = model.predict(X_val).flatten()\n",
    "plt.plot(dates_val, val_predictions)\n",
    "plt.plot(dates_val, y_val)\n",
    "plt.legend(['Validation Predictions', 'Validation Observations'])"
   ]
  },
  {
   "cell_type": "code",
   "execution_count": 15,
   "id": "f6d45c7c",
   "metadata": {},
   "outputs": [
    {
     "data": {
      "text/plain": [
       "<matplotlib.legend.Legend at 0x150e7225ca0>"
      ]
     },
     "execution_count": 15,
     "metadata": {},
     "output_type": "execute_result"
    },
    {
     "data": {
      "image/png": "[encoded data removed]",
      "text/plain": [
       "<Figure size 432x288 with 1 Axes>"
      ]
     },
     "metadata": {
      "needs_background": "light"
     },
     "output_type": "display_data"
    }
   ],
   "source": [
    "#testing\n",
    "test_predictions = model.predict(X_test).flatten()\n",
    "plt.plot(dates_test, test_predictions)\n",
    "plt.plot(dates_test, y_test)\n",
    "plt.legend(['Testing Predictions', 'Testing Observations'])"
   ]
  },
  {
   "cell_type": "code",
   "execution_count": 16,
   "id": "033d53ff",
   "metadata": {},
   "outputs": [
    {
     "data": {
      "text/plain": [
       "<matplotlib.legend.Legend at 0x150e61ce400>"
      ]
     },
     "execution_count": 16,
     "metadata": {},
     "output_type": "execute_result"
    },
    {
     "data": {
      "image/png": "[encoded data removed]",
      "text/plain": [
       "<Figure size 432x288 with 1 Axes>"
      ]
     },
     "metadata": {
      "needs_background": "light"
     },
     "output_type": "display_data"
    }
   ],
   "source": [
    "#plotting altogether in the same graph\n",
    "plt.plot(dates_train, train_predictions)\n",
    "plt.plot(dates_train, y_train)\n",
    "plt.plot(dates_val, val_predictions)\n",
    "plt.plot(dates_val, y_val)\n",
    "plt.plot(dates_test, test_predictions)\n",
    "plt.plot(dates_test, y_test)\n",
    "plt.legend(['Training Predictions', \n",
    "            'Training Observations',\n",
    "            'Validation Predictions', \n",
    "            'Validation Observations',\n",
    "            'Testing Predictions', \n",
    "            'Testing Observations'])"
   ]
  },
  {
   "cell_type": "code",
   "execution_count": 17,
   "id": "69d09976",
   "metadata": {},
   "outputs": [],
   "source": [
    "from copy import deepcopy\n",
    "recursive_predictions = []\n",
    "recursive_dates = np.concatenate([dates_val, dates_test])\n",
    "for target_date in recursive_dates:\n",
    "    last_window = deepcopy(X_train[-1])\n",
    "    next_prediction = model.predict(np.array([last_window])).flatten()\n",
    "    recursive_predictions.append(next_prediction)\n",
    "    last_window[-1] = next_prediction"
   ]
  },
  {
   "cell_type": "code",
   "execution_count": 18,
   "id": "a8430400",
   "metadata": {},
   "outputs": [
    {
     "data": {
      "text/plain": [
       "<matplotlib.legend.Legend at 0x150e7444fa0>"
      ]
     },
     "execution_count": 18,
     "metadata": {},
     "output_type": "execute_result"
    },
    {
     "data": {
      "image/png": "[encoded data removed]",
      "text/plain": [
       "<Figure size 432x288 with 1 Axes>"
      ]
     },
     "metadata": {
      "needs_background": "light"
     },
     "output_type": "display_data"
    }
   ],
   "source": [
    "plt.plot(dates_train, train_predictions)\n",
    "plt.plot(dates_train, y_train)\n",
    "plt.plot(dates_val, val_predictions)\n",
    "plt.plot(dates_val, y_val)\n",
    "plt.plot(dates_test, test_predictions)\n",
    "plt.plot(dates_test, y_test)\n",
    "plt.plot(recursive_dates, recursive_predictions)\n",
    "plt.legend(['Training Predictions', \n",
    "            'Training Observations',\n",
    "            'Validation Predictions', \n",
    "            'Validation Observations',\n",
    "            'Testing Predictions', \n",
    "            'Testing Observations',\n",
    "            'Recursive Predictions'])"
   ]
  },
  {
   "cell_type": "code",
   "execution_count": null,
   "id": "ae3055c9",
   "metadata": {},
   "outputs": [],
   "source": []
  }
 ],
 "metadata": {
  "kernelspec": {
   "display_name": "Python 3 (ipykernel)",
   "language": "python",
   "name": "python3"
  },
  "language_info": {
   "codemirror_mode": {
    "name": "ipython",
    "version": 3
   },
   "file_extension": ".py",
   "mimetype": "text/x-python",
   "name": "python",
   "nbconvert_exporter": "python",
   "pygments_lexer": "ipython3",
   "version": "3.9.7"
  }
 },
 "nbformat": 4,
 "nbformat_minor": 5
}
